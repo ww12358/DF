{
 "cells": [
  {
   "cell_type": "code",
   "execution_count": 10,
   "metadata": {
    "scrolled": true
   },
   "outputs": [],
   "source": [
    "from updateData import copySglDataFromExl\n",
    "import timeit"
   ]
  },
  {
   "cell_type": "code",
   "execution_count": 11,
   "metadata": {},
   "outputs": [
    {
     "name": "stdout",
     "output_type": "stream",
     "text": [
      "Parsing Excel file...\n",
      "Reading H5...\n",
      "no data to append, (df_new is empty)\n",
      "dataframe is edited, just update dfo with df\n",
      "Parsing Excel file...\n",
      "Reading H5...\n",
      "no data to append, (df_new is empty)\n",
      "nothing changed!\n",
      "Parsing Excel file...\n",
      "Reading H5...\n",
      "no data to append, (df_new is empty)\n",
      "nothing changed!\n",
      "Parsing Excel file...\n",
      "Reading H5...\n",
      "no data to append, (df_new is empty)\n",
      "nothing changed!\n",
      "1 loop, best of 3: 12 s per loop\n"
     ]
    }
   ],
   "source": [
    "%timeit copySglDataFromExl('CU')"
   ]
  }
 ],
 "metadata": {
  "kernelspec": {
   "display_name": "Python 2",
   "language": "python",
   "name": "python2"
  },
  "language_info": {
   "codemirror_mode": {
    "name": "ipython",
    "version": 2
   },
   "file_extension": ".py",
   "mimetype": "text/x-python",
   "name": "python",
   "nbconvert_exporter": "python",
   "pygments_lexer": "ipython2",
   "version": "2.7.14"
  }
 },
 "nbformat": 4,
 "nbformat_minor": 2
}
