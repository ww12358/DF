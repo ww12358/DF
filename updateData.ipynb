{
 "cells": [
  {
   "cell_type": "code",
   "execution_count": null,
   "metadata": {
    "collapsed": true
   },
   "outputs": [],
   "source": [
    "import numpy as np\n",
    "import pandas as pd"
   ]
  },
  {
   "cell_type": "code",
   "execution_count": null,
   "metadata": {
    "collapsed": true
   },
   "outputs": [],
   "source": [
    "symbol_collection=[\n",
    "                   'A','M','Y', 'P', 'C','JD',\n",
    "                   'SR', 'CF', 'WH', 'OI', 'RM',  'RS', 'RI',\n",
    "                   'CU', 'AL', 'ZN', 'PB', 'RU', 'AU', 'AG', 'RB',\n",
    "                   'TA', 'ME', 'ZC', 'FG',\n",
    "                   'PP', 'L', 'V', 'I', 'J', 'JM'\n",
    "                   'IF', 'IH', 'IC', 'TF'\n",
    "                   ]\n",
    "\n",
    "\n",
    "symbol = 'RB'\n",
    "\n",
    "def updateData(symbol)\n",
    "    xl = pd.ExcelFile('/home/sean/Nutstore/DY强弱记录(2018).xlsm')\n",
    "#    old = pd.ExcelFile('./data/data.xlsm')\n",
    "\n",
    "try:\n",
    "    df = xl.parse(symbol)\n",
    "    dfo = pd.read_hdf('./data/creekIDX.hdf5', '/' + symbol, mode='r')\n",
    "except:\n",
    "    print 'Error opening excel file'\n",
    "\n",
    "#diff_pd(df, dfo)\n",
    "df.drop(df.index[0], inplace=True)\n",
    "#dfo.drop(dfo.index[0], inplace=True)\n",
    "#df = df[['Date_time', 'st_pct', 'sw_pct', 'tr_pct', 'tt_pct']]\n",
    "\n",
    "#dfa = df.iloc[df['Date_time'] == dfo['Date_time']]"
   ]
  },
  {
   "cell_type": "code",
   "execution_count": null,
   "metadata": {
    "collapsed": true,
    "scrolled": true
   },
   "outputs": [],
   "source": []
  },
  {
   "cell_type": "code",
   "execution_count": null,
   "metadata": {
    "collapsed": true
   },
   "outputs": [],
   "source": [
    "i2 = dfo.set_index('Date_time').index"
   ]
  },
  {
   "cell_type": "code",
   "execution_count": null,
   "metadata": {
    "collapsed": true
   },
   "outputs": [],
   "source": [
    "df_new = df[~i1.isin(i2)]"
   ]
  },
  {
   "cell_type": "code",
   "execution_count": null,
   "metadata": {
    "collapsed": true
   },
   "outputs": [],
   "source": [
    "dfo.update(df)"
   ]
  },
  {
   "cell_type": "code",
   "execution_count": null,
   "metadata": {
    "collapsed": true
   },
   "outputs": [],
   "source": [
    "dfc = dfo.append(df_new)"
   ]
  },
  {
   "cell_type": "code",
   "execution_count": 118,
   "metadata": {
    "collapsed": true,
    "scrolled": true
   },
   "outputs": [],
   "source": [
    "dfc.reset_index(inplace=True, drop = True)"
   ]
  },
  {
   "cell_type": "code",
   "execution_count": null,
   "metadata": {
    "collapsed": true
   },
   "outputs": [],
   "source": []
  }
 ],
 "metadata": {
  "kernelspec": {
   "display_name": "Python 2",
   "language": "python",
   "name": "python2"
  },
  "language_info": {
   "codemirror_mode": {
    "name": "ipython",
    "version": 2
   },
   "file_extension": ".py",
   "mimetype": "text/x-python",
   "name": "python",
   "nbconvert_exporter": "python",
   "pygments_lexer": "ipython2",
   "version": "2.7.14"
  }
 },
 "nbformat": 4,
 "nbformat_minor": 2
}
